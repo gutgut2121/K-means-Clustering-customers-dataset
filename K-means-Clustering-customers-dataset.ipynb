{
 "cells": [
  {
   "cell_type": "markdown",
   "metadata": {},
   "source": [
    "## K-means-Clustering-Customers-dataset\n",
    "\n",
    "### The dataset show the information of customers with two attributes (standardized income and standardized age)\n",
    "\n",
    "### Use K-means algorithm and Euclidean distance to cluster the customers into 3 clusters by hand calculation. The initial centroids are set to A, D, and H. The detailed distance matrix and centroids is also recorded at each step.\n",
    "\n",
    "There are Four steps in K-means clustering:\n",
    "1. Initializsation: assign K initial centroids.\n",
    "2. Assignment: K clusters are created by associating each observation with the nearest centroid.\n",
    "3. Update: The centroid of the clusters becomes the new centoid.\n",
    "3. Stop or not: if not convergence, come back to step-2.\n"
   ]
  },
  {
   "cell_type": "code",
   "execution_count": 0,
   "metadata": {
    "colab": {},
    "colab_type": "code",
    "id": "TeKaqZMOSemL"
   },
   "outputs": [],
   "source": [
    "# import necessary libraries\n",
    "import pandas as pd\n",
    "import numpy as np\n",
    "import copy\n",
    "import matplotlib.pyplot as plt\n",
    "%matplotlib inline"
   ]
  },
  {
   "cell_type": "code",
   "execution_count": 0,
   "metadata": {
    "colab": {},
    "colab_type": "code",
    "id": "el4duJ-bBfU8"
   },
   "outputs": [],
   "source": [
    "def assignment(df, centroids):\n",
    "    for i in centroids.keys():\n",
    "    #  Euclidean distance: sqrt((x1 - x2)^2 - (y1 - y2)^2)\n",
    "        df[f'distance_from_{i}'] = (\n",
    "        np.sqrt(\n",
    "            (df['income'] - centroids[i][0])**2\n",
    "          + (df['age'] - centroids[i][1])**2 \n",
    "        )\n",
    "    )\n",
    "\n",
    "    centroid_distance_cols = [f'distance_from_{i}' for i in centroids.keys()]\n",
    "    df['closest'] = df.loc[:, centroid_distance_cols].idxmin(axis=1)\n",
    "    df['closest'] = df['closest'].map(lambda x: int(x.lstrip('distance_from_')))\n",
    "    df['color'] = df['closest'].map(lambda x: col_map[x])\n",
    "    return df\n",
    "\n",
    "def update(centroids):\n",
    "    for i in centroids.keys():\n",
    "        centroids[i][0] = np.mean(df[df['closest'] == i]['income'])\n",
    "        centroids[i][1] = np.mean(df[df['closest'] == i]['age'])\n",
    "    return centroids\n"
   ]
  },
  {
   "cell_type": "code",
   "execution_count": 0,
   "metadata": {
    "colab": {
     "base_uri": "https://localhost:8080/",
     "height": 513
    },
    "colab_type": "code",
    "id": "Wx6wCgjHB8Zx",
    "outputId": "4a150f12-b722-46a0-9c90-da340adfc936"
   },
   "outputs": [
    {
     "data": {
      "image/png": "[encoded data removed]",
      "text/plain": [
       "<Figure size 576x576 with 1 Axes>"
      ]
     },
     "metadata": {
      "needs_background": "light",
      "tags": []
     },
     "output_type": "display_data"
    }
   ],
   "source": [
    "# 9 customers\n",
    "customers = ['A', 'B', 'C', 'D', 'E', 'F', 'G', 'H', 'I']\n",
    "df = pd.DataFrame({\n",
    "    'income': [1, 2, 5, 4, 4, 2, 5, 6, 3],\n",
    "    'age':    [2, 2, 4, 4, 5, 3, 3, 4, 5]   \n",
    "})\n",
    "\n",
    "k = 3\n",
    "\n",
    "# Step-1: Assign 3 initail centroids.\n",
    "centroids = {\n",
    "    1: [1, 2],    #Point A\n",
    "    2: [4, 4],    #Point D\n",
    "    3: [6, 4],    #Point H\n",
    "}\n",
    "\n",
    "# visualize\n",
    "fig = plt.figure(figsize=(8, 8))\n",
    "plt.scatter(df['income'], df['age'], color='k')\n",
    "col_map = {1: 'r', 2: 'g', 3: 'b'}\n",
    "for i in centroids.keys():\n",
    "    plt.scatter(*centroids[i], color=col_map[i])\n",
    "for i, cus_name in enumerate(customers):\n",
    "    plt.annotate(cus_name,\n",
    "               xy=(df['income'][i], df['age'][i]), ha='right', va='bottom'\n",
    "  )\n",
    "plt.xlim(0, 7)\n",
    "plt.ylim(1, 6)\n",
    "plt.title('The Plot of Customers')\n",
    "plt.xlabel('Income')\n",
    "plt.ylabel('Age')\n",
    "plt.show()"
   ]
  },
  {
   "cell_type": "code",
   "execution_count": 0,
   "metadata": {
    "colab": {
     "base_uri": "https://localhost:8080/",
     "height": 513
    },
    "colab_type": "code",
    "id": "cKYOzPMsCR1j",
    "outputId": "f29664c6-fa8d-43f0-d26a-c6bbaa19492d"
   },
   "outputs": [
    {
     "data": {
      "image/png": "[encoded data removed]",
      "text/plain": [
       "<Figure size 576x576 with 1 Axes>"
      ]
     },
     "metadata": {
      "needs_background": "light",
      "tags": []
     },
     "output_type": "display_data"
    }
   ],
   "source": [
    "# Step-2: Continue until all assigned categories don't change any more\n",
    "df = assignment(df, centroids)\n",
    "while True:\n",
    "    closest_centroids = df['closest'].copy(deep=True)\n",
    "    # Please determine the order of update() and assignment() below, Hint: 2 lines of codes\n",
    "    centroids = update(centroids)\n",
    "    assignment(df, centroids)\n",
    "    if closest_centroids.equals(df['closest']):\n",
    "        break\n",
    "\n",
    "# visualize\n",
    "fig = plt.figure(figsize=(8, 8))\n",
    "plt.scatter(df['income'], df['age'], color=df['color'], alpha=0.3)\n",
    "for i in centroids.keys():\n",
    "    plt.scatter(*centroids[i], color=col_map[i])\n",
    "for i, cus_name in enumerate(customers):\n",
    "    plt.annotate(cus_name,\n",
    "               xy=(df['income'][i], df['age'][i]), ha='right', va='bottom'\n",
    "  )\n",
    "plt.xlim(0, 7)\n",
    "plt.ylim(1, 6)\n",
    "plt.title('The Plot of Customers')\n",
    "plt.xlabel('Income')\n",
    "plt.ylabel('Age')\n",
    "plt.show()"
   ]
  },
  {
   "cell_type": "code",
   "execution_count": null,
   "metadata": {},
   "outputs": [],
   "source": []
  }
 ],
 "metadata": {
  "colab": {
   "collapsed_sections": [],
   "name": "Assignment3-K-means-Clustering.ipynb",
   "provenance": []
  },
  "kernelspec": {
   "display_name": "Python 3",
   "language": "python",
   "name": "python3"
  },
  "language_info": {
   "codemirror_mode": {
    "name": "ipython",
    "version": 3
   },
   "file_extension": ".py",
   "mimetype": "text/x-python",
   "name": "python",
   "nbconvert_exporter": "python",
   "pygments_lexer": "ipython3",
   "version": "3.8.8"
  }
 },
 "nbformat": 4,
 "nbformat_minor": 1
}
